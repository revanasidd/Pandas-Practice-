{
 "cells": [
  {
   "cell_type": "code",
   "execution_count": 1,
   "metadata": {},
   "outputs": [
    {
     "name": "stdout",
     "output_type": "stream",
     "text": [
      "Help on built-in function print in module builtins:\n",
      "\n",
      "print(...)\n",
      "    print(value, ..., sep=' ', end='\\n', file=sys.stdout, flush=False)\n",
      "    \n",
      "    Prints the values to a stream, or to sys.stdout by default.\n",
      "    Optional keyword arguments:\n",
      "    file:  a file-like object (stream); defaults to the current sys.stdout.\n",
      "    sep:   string inserted between values, default a space.\n",
      "    end:   string appended after the last value, default a newline.\n",
      "    flush: whether to forcibly flush the stream.\n",
      "\n"
     ]
    }
   ],
   "source": [
    "help(print)"
   ]
  },
  {
   "cell_type": "code",
   "execution_count": 3,
   "metadata": {},
   "outputs": [
    {
     "name": "stdout",
     "output_type": "stream",
     "text": [
      "Welcome to new file\n"
     ]
    }
   ],
   "source": [
    "print('Welcome to new file')"
   ]
  },
  {
   "cell_type": "code",
   "execution_count": 4,
   "metadata": {},
   "outputs": [
    {
     "name": "stdout",
     "output_type": "stream",
     "text": [
      "7\n"
     ]
    }
   ],
   "source": [
    "print(2+3+2)"
   ]
  },
  {
   "cell_type": "code",
   "execution_count": 5,
   "metadata": {},
   "outputs": [
    {
     "name": "stdout",
     "output_type": "stream",
     "text": [
      "4\n"
     ]
    }
   ],
   "source": [
    "print(6-2)"
   ]
  },
  {
   "cell_type": "code",
   "execution_count": 6,
   "metadata": {},
   "outputs": [],
   "source": [
    "# if then else elif end do while loop exec  class\n"
   ]
  },
  {
   "cell_type": "code",
   "execution_count": 7,
   "metadata": {},
   "outputs": [
    {
     "data": {
      "text/plain": [
       "'\\nMultiline comments\\n'"
      ]
     },
     "execution_count": 7,
     "metadata": {},
     "output_type": "execute_result"
    }
   ],
   "source": [
    "# control statements:\n",
    "\n",
    "# check for any condition and take required actions\n",
    "\n",
    "\n",
    "# \n",
    "\n",
    "\"\"\"\n",
    "Multiline comments\n",
    "\"\"\""
   ]
  },
  {
   "cell_type": "code",
   "execution_count": 8,
   "metadata": {},
   "outputs": [],
   "source": [
    "#if (condition is true):\n",
    "# perform business logic\n",
    "#else:\n",
    "# perform alternate business logic\n",
    "# end:\n",
    "\n",
    "# each python code ends with :\n",
    "\n",
    "\n",
    "\n",
    "\n",
    "\n"
   ]
  },
  {
   "cell_type": "code",
   "execution_count": 10,
   "metadata": {},
   "outputs": [
    {
     "name": "stdout",
     "output_type": "stream",
     "text": [
      "Welcome to second class \n"
     ]
    }
   ],
   "source": [
    "input_marks_passed_out = 35\n",
    "\n",
    "if input_marks_passed_out >= 60:\n",
    "    print(\"Welcome to First class\")\n",
    "else:\n",
    "    print(\"Welcome to second class \")\n",
    "    "
   ]
  },
  {
   "cell_type": "code",
   "execution_count": 15,
   "metadata": {},
   "outputs": [
    {
     "name": "stdout",
     "output_type": "stream",
     "text": [
      "Welcome to second class \n"
     ]
    }
   ],
   "source": [
    "input_marks_passed_out = 50\n",
    "\n",
    "if input_marks_passed_out >= 60:\n",
    "    print(\"Welcome to First class\")\n",
    "elif input_marks_passed_out < 60 and input_marks_passed_out >= 45:\n",
    "    print(\"Welcome to second class \")\n",
    "elif input_marks_passed_out < 44 and input_marks_passed_out >= 35:\n",
    "    print(\"Welcome to Third class\")\n",
    "else:\n",
    "    print(\"Failed: Did not meet success criteria\")\n",
    "    \n",
    "    \n",
    "    "
   ]
  },
  {
   "cell_type": "code",
   "execution_count": 17,
   "metadata": {},
   "outputs": [
    {
     "name": "stdout",
     "output_type": "stream",
     "text": [
      "Age difference is greater than 10\n"
     ]
    }
   ],
   "source": [
    "age_para_1 = 50\n",
    "age_para_2 = 100\n",
    "\n",
    "if (age_para_2-age_para_1) <= 10:\n",
    "    print('Age difference is less than 10')\n",
    "else:\n",
    "    print('Age difference is greater than 10')\n",
    "    \n",
    "    "
   ]
  },
  {
   "cell_type": "code",
   "execution_count": 21,
   "metadata": {},
   "outputs": [
    {
     "name": "stdout",
     "output_type": "stream",
     "text": [
      "No, please try later\n"
     ]
    }
   ],
   "source": [
    "# different data types in python\n",
    "\n",
    "\n",
    "# boolean: True, False\n",
    "\n",
    "# int, double: 234, 4555000\n",
    "\n",
    "# string, char: \"Welcome\", \"C\"\n",
    "\n",
    "# float: 2233.22\n",
    "\n",
    "\n",
    "eligibility_criteria = False\n",
    "\n",
    "# usage of boolean variables along with if else statements\n",
    "if (eligibility_criteria):\n",
    "    print('You are eligible to participate in the competition')\n",
    "else:\n",
    "    print('No, please try later')\n"
   ]
  },
  {
   "cell_type": "code",
   "execution_count": 22,
   "metadata": {},
   "outputs": [
    {
     "name": "stdout",
     "output_type": "stream",
     "text": [
      "Division value is greater than 0.05\n"
     ]
    }
   ],
   "source": [
    "if (234/23 < 0.05):\n",
    "    print('Division value is less than 0.05')\n",
    "else:\n",
    "    print('Division value is greater than 0.05')\n",
    "    "
   ]
  },
  {
   "cell_type": "code",
   "execution_count": 9,
   "metadata": {},
   "outputs": [
    {
     "name": "stdout",
     "output_type": "stream",
     "text": [
      "Your first name is:  John\n",
      "Your last name is:  David\n",
      "input_number is:  0\n",
      "input_number is:  1\n",
      "input_number is:  2\n",
      "input_number is:  3\n",
      "input_number is:  4\n",
      "Valid Indentation\n"
     ]
    }
   ],
   "source": [
    "first_name = \"John\"\n",
    "last_name = \"David\"\n",
    "\n",
    "input_number = 0\n",
    "\n",
    "if (first_name != ''):\n",
    "    print('Your first name is: ', first_name)\n",
    "    print('Your last name is: ', last_name)\n",
    "    \n",
    "    while(input_number < 5):\n",
    "        print('input_number is: ', input_number)\n",
    "        input_number +=1\n",
    "else:\n",
    "    print('Your last name is: ', last_name)\n",
    "    print('I am in else block')\n",
    "    \n",
    "print('Valid Indentation')\n",
    "    "
   ]
  },
  {
   "cell_type": "code",
   "execution_count": null,
   "metadata": {},
   "outputs": [],
   "source": [
    "# install anacode package : \n",
    "# select required OS based on your system\n",
    "# start Jupyter notebook\n"
   ]
  },
  {
   "cell_type": "code",
   "execution_count": 1,
   "metadata": {},
   "outputs": [
    {
     "name": "stdout",
     "output_type": "stream",
     "text": [
      "welcome\n"
     ]
    }
   ],
   "source": [
    "print(\"welcome\")"
   ]
  },
  {
   "cell_type": "code",
   "execution_count": 10,
   "metadata": {},
   "outputs": [
    {
     "data": {
      "text/plain": [
       "'\\nMultiline docstring\\n'"
      ]
     },
     "execution_count": 10,
     "metadata": {},
     "output_type": "execute_result"
    }
   ],
   "source": [
    "# python <<filename>>\n",
    "\n",
    "# python Python_base_demo_1.py\n",
    "\n",
    "\n",
    "# +, -, <, > != == <= >= and or \n",
    "\n",
    "\n",
    "#\n",
    "#\n",
    "#\n",
    "\n",
    "\"\"\"\n",
    "Multiline docstring\n",
    "\"\"\"\n"
   ]
  },
  {
   "cell_type": "code",
   "execution_count": 14,
   "metadata": {},
   "outputs": [],
   "source": [
    "first_name = \"John\"\n",
    "last_name = \"David\"\n",
    "\n",
    "roll_number = 2020\n"
   ]
  },
  {
   "cell_type": "code",
   "execution_count": 15,
   "metadata": {},
   "outputs": [
    {
     "name": "stdout",
     "output_type": "stream",
     "text": [
      "Full name:  John David\n"
     ]
    }
   ],
   "source": [
    "print(\"Full name: \", first_name+\" \"+ last_name)"
   ]
  },
  {
   "cell_type": "code",
   "execution_count": 20,
   "metadata": {},
   "outputs": [
    {
     "name": "stdout",
     "output_type": "stream",
     "text": [
      "Name with Roll number:  John 2020\n"
     ]
    }
   ],
   "source": [
    "print(\"Name with Roll number: \", first_name + \" \" +  str(roll_number))"
   ]
  },
  {
   "cell_type": "code",
   "execution_count": 21,
   "metadata": {},
   "outputs": [
    {
     "name": "stdout",
     "output_type": "stream",
     "text": [
      "Data type of a variable  <class 'int'>\n"
     ]
    }
   ],
   "source": [
    "print(\"Data type of a variable \", type(roll_number))"
   ]
  },
  {
   "cell_type": "code",
   "execution_count": 22,
   "metadata": {},
   "outputs": [],
   "source": [
    "# Python : Variable names are case-sensitive \n",
    "\n",
    "first_variable = \"One\"\n",
    "First_Variable = \"One One\""
   ]
  },
  {
   "cell_type": "code",
   "execution_count": 24,
   "metadata": {},
   "outputs": [
    {
     "name": "stdout",
     "output_type": "stream",
     "text": [
      " first_variable :  One\n",
      " First_Variable :  One One\n"
     ]
    }
   ],
   "source": [
    "print(\" first_variable : \", first_variable)\n",
    "print(\" First_Variable : \", First_Variable)\n"
   ]
  },
  {
   "cell_type": "code",
   "execution_count": 25,
   "metadata": {},
   "outputs": [],
   "source": [
    "# It should not start with numericals\n",
    "\n",
    "# Camel case, Snake case\n",
    "\n",
    "First_name_1 = First_name_2 = First_name_3 = \"John\""
   ]
  },
  {
   "cell_type": "code",
   "execution_count": 26,
   "metadata": {},
   "outputs": [
    {
     "name": "stdout",
     "output_type": "stream",
     "text": [
      "John John John\n"
     ]
    }
   ],
   "source": [
    "print(First_name_1, First_name_2, First_name_3)"
   ]
  },
  {
   "cell_type": "code",
   "execution_count": 27,
   "metadata": {},
   "outputs": [],
   "source": [
    "# Collection data types:  List, Set, Dictionary, Tuple "
   ]
  },
  {
   "cell_type": "code",
   "execution_count": 36,
   "metadata": {},
   "outputs": [
    {
     "name": "stdout",
     "output_type": "stream",
     "text": [
      "Your last name is:  David\n",
      "I am in else block\n",
      "local number value is:  1\n"
     ]
    }
   ],
   "source": [
    "# scope of a variables: \n",
    "\n",
    "# Global, Local \n",
    "\n",
    "\n",
    "first_name = \"John\"\n",
    "last_name = \"David\"\n",
    "\n",
    "global j\n",
    "input_number = 0\n",
    "\n",
    "j = 1\n",
    "\n",
    "if (first_name == ''):\n",
    "    print('Your first name is: ', first_name)\n",
    "    print('Your last name is: ', last_name)\n",
    "    \n",
    "    while(input_number < 5):\n",
    "        j +=1\n",
    "        print('input_number is: ', input_number)\n",
    "        print('local number value is: ', j)\n",
    "        input_number +=1\n",
    "        \n",
    "else:\n",
    "    print('Your last name is: ', last_name)\n",
    "    print('I am in else block')\n",
    "    \n",
    "print('local number value is: ', j)\n",
    "    \n",
    "\n",
    "\n"
   ]
  },
  {
   "cell_type": "code",
   "execution_count": 37,
   "metadata": {},
   "outputs": [
    {
     "name": "stdout",
     "output_type": "stream",
     "text": [
      "8\n"
     ]
    }
   ],
   "source": [
    "# **  +, -, *, /, \n",
    "\n",
    "# x = x+5,  x += 5\n",
    "\n",
    "# comparison operators,  ==, >, <, equal ==, !=\n",
    "\n",
    "# logic operations:  and, or, not\n",
    "\n",
    "# x**n,  2**3, 3**4\n",
    "\n",
    "# membership operators:  in, not in  \n",
    "\n",
    "# bitwise operators:  & (and), ~ (not), ^ (xor), | (or)\n",
    "\n",
    "print (2**3)"
   ]
  },
  {
   "cell_type": "code",
   "execution_count": 38,
   "metadata": {},
   "outputs": [],
   "source": [
    "# Collection data types:  List, Set, Dictionary, Tuple "
   ]
  },
  {
   "cell_type": "code",
   "execution_count": 39,
   "metadata": {},
   "outputs": [],
   "source": [
    "# List Items: ordered, changeable, allows duplicate values\n",
    "\n",
    "\n",
    "city_names = ['Bangalore', 'Chennai', 'Mumbai', 'Delhi']"
   ]
  },
  {
   "cell_type": "code",
   "execution_count": 40,
   "metadata": {},
   "outputs": [
    {
     "name": "stdout",
     "output_type": "stream",
     "text": [
      "['Bangalore', 'Chennai', 'Mumbai', 'Delhi']\n"
     ]
    }
   ],
   "source": [
    "print(city_names)"
   ]
  },
  {
   "cell_type": "code",
   "execution_count": 41,
   "metadata": {},
   "outputs": [
    {
     "name": "stdout",
     "output_type": "stream",
     "text": [
      "Bangalore\n"
     ]
    }
   ],
   "source": [
    "print(city_names[0])"
   ]
  },
  {
   "cell_type": "code",
   "execution_count": 42,
   "metadata": {},
   "outputs": [
    {
     "name": "stdout",
     "output_type": "stream",
     "text": [
      "4\n"
     ]
    }
   ],
   "source": [
    "print(len(city_names))"
   ]
  },
  {
   "cell_type": "code",
   "execution_count": 44,
   "metadata": {},
   "outputs": [
    {
     "name": "stdout",
     "output_type": "stream",
     "text": [
      "list last index value :  3\n",
      "Delhi\n"
     ]
    }
   ],
   "source": [
    "print('list last index value : ', len(city_names)-1)\n",
    "print(city_names[len(city_names)-1])"
   ]
  },
  {
   "cell_type": "code",
   "execution_count": 45,
   "metadata": {},
   "outputs": [
    {
     "name": "stdout",
     "output_type": "stream",
     "text": [
      "[1, 2, 3, 4]\n"
     ]
    }
   ],
   "source": [
    "city_rank = [1,2,3,4]\n",
    "\n",
    "print(city_rank)"
   ]
  },
  {
   "cell_type": "code",
   "execution_count": 46,
   "metadata": {},
   "outputs": [],
   "source": [
    "mixed_list = ['Bangalore', 'Chennai', 'Mumbai', 'Delhi', 1,2,3,4, True, False, True, 29.2]"
   ]
  },
  {
   "cell_type": "code",
   "execution_count": 47,
   "metadata": {},
   "outputs": [
    {
     "name": "stdout",
     "output_type": "stream",
     "text": [
      "['Bangalore', 'Chennai', 'Mumbai', 'Delhi', 1, 2, 3, 4, True, False, True, 29.2]\n"
     ]
    }
   ],
   "source": [
    "print(mixed_list)"
   ]
  },
  {
   "cell_type": "code",
   "execution_count": 48,
   "metadata": {},
   "outputs": [
    {
     "name": "stdout",
     "output_type": "stream",
     "text": [
      "12\n"
     ]
    }
   ],
   "source": [
    "print(len(mixed_list))"
   ]
  },
  {
   "cell_type": "code",
   "execution_count": 49,
   "metadata": {},
   "outputs": [
    {
     "name": "stdout",
     "output_type": "stream",
     "text": [
      "<class 'list'>\n"
     ]
    }
   ],
   "source": [
    "print(type(mixed_list))"
   ]
  },
  {
   "cell_type": "code",
   "execution_count": 50,
   "metadata": {},
   "outputs": [
    {
     "data": {
      "text/plain": [
       "'Chennai'"
      ]
     },
     "metadata": {},
     "output_type": "display_data"
    },
    {
     "data": {
      "text/plain": [
       "29.2"
      ]
     },
     "metadata": {},
     "output_type": "display_data"
    }
   ],
   "source": [
    "# indexing\n",
    "\n",
    "# positive index : from first to last\n",
    "\n",
    "# negative index : from last  to first \n",
    "\n",
    "display(mixed_list[1])\n",
    "\n",
    "display(mixed_list[-1])\n",
    "\n"
   ]
  },
  {
   "cell_type": "code",
   "execution_count": 51,
   "metadata": {},
   "outputs": [
    {
     "name": "stdout",
     "output_type": "stream",
     "text": [
      "['Chennai', 'Mumbai']\n"
     ]
    }
   ],
   "source": [
    "# range of indexes\n",
    "# notation ->  start index : end index\n",
    "\n",
    "print(mixed_list[1:3])"
   ]
  },
  {
   "cell_type": "code",
   "execution_count": 53,
   "metadata": {},
   "outputs": [
    {
     "name": "stdout",
     "output_type": "stream",
     "text": [
      "['Delhi', 1, 2, 3, 4, True, False, True]\n"
     ]
    }
   ],
   "source": [
    "print(mixed_list[3:-1])"
   ]
  },
  {
   "cell_type": "code",
   "execution_count": 55,
   "metadata": {},
   "outputs": [
    {
     "name": "stdout",
     "output_type": "stream",
     "text": [
      "Delhi\n",
      "1\n",
      "2\n",
      "3\n",
      "4\n",
      "True\n",
      "False\n",
      "True\n",
      "29.2\n"
     ]
    }
   ],
   "source": [
    "index_info = 0\n",
    "for data_value in mixed_list:\n",
    "    index_info +=1\n",
    "    if index_info > 3:\n",
    "        print(data_value)"
   ]
  },
  {
   "cell_type": "code",
   "execution_count": 57,
   "metadata": {},
   "outputs": [],
   "source": [
    "# data exists in the list\n",
    "\n",
    "city_name = \"Mumbai-1\"\n",
    "\n",
    "if city_name in mixed_list:\n",
    "    print(\"City \", city_name , ' Exists in the list of values')"
   ]
  },
  {
   "cell_type": "code",
   "execution_count": 60,
   "metadata": {},
   "outputs": [
    {
     "name": "stdout",
     "output_type": "stream",
     "text": [
      "Total size of the list - before:  12\n",
      "Value at 3rd index:  Delhi\n",
      "Total size of the list - After modification:  9\n",
      "Value at 3rd index:  2\n"
     ]
    }
   ],
   "source": [
    "# example of changing list values: \n",
    "\n",
    "mixed_list = ['Bangalore', 'Chennai', 'Mumbai', 'Delhi', 1,2,3,4, True, False, True, 29.2]\n",
    "\n",
    "print('Total size of the list - before: ', len(mixed_list))\n",
    "\n",
    "print('Value at 3rd index: ', mixed_list[3])\n",
    "\n",
    "mixed_list = ['Bangalore', 'Chennai', 'Mumbai', 2,3,4, True, 'Delhi', 29.2]\n",
    "\n",
    "print('Total size of the list - After modification: ', len(mixed_list))\n",
    "\n",
    "print('Value at 3rd index: ', mixed_list[3])\n",
    "\n"
   ]
  },
  {
   "cell_type": "code",
   "execution_count": 61,
   "metadata": {},
   "outputs": [],
   "source": [
    "mixed_list.insert(3, \"Kolkata\")"
   ]
  },
  {
   "cell_type": "code",
   "execution_count": 62,
   "metadata": {},
   "outputs": [
    {
     "name": "stdout",
     "output_type": "stream",
     "text": [
      "Total size of the list - After modification:  10\n",
      "Value at 3rd index:  Kolkata\n"
     ]
    }
   ],
   "source": [
    "\n",
    "print('Total size of the list - After modification: ', len(mixed_list))\n",
    "\n",
    "print('Value at 3rd index: ', mixed_list[3])\n",
    "\n"
   ]
  },
  {
   "cell_type": "code",
   "execution_count": 63,
   "metadata": {},
   "outputs": [
    {
     "name": "stdout",
     "output_type": "stream",
     "text": [
      "Welcome to addition of elements to list\n"
     ]
    }
   ],
   "source": [
    "print('Welcome to addition of elements to list')\n",
    "\n",
    "mixed_list.append(\"Hyderabad\")"
   ]
  },
  {
   "cell_type": "code",
   "execution_count": 64,
   "metadata": {},
   "outputs": [
    {
     "name": "stdout",
     "output_type": "stream",
     "text": [
      "Total size of the list - After modification:  11\n"
     ]
    }
   ],
   "source": [
    "print('Total size of the list - After modification: ', len(mixed_list))\n"
   ]
  },
  {
   "cell_type": "code",
   "execution_count": 65,
   "metadata": {},
   "outputs": [
    {
     "name": "stdout",
     "output_type": "stream",
     "text": [
      "['Bangalore', 'Chennai', 'Mumbai', 'Kolkata', 2, 3, 4, True, 'Delhi', 29.2, 'Hyderabad']\n"
     ]
    }
   ],
   "source": [
    "print(mixed_list)"
   ]
  },
  {
   "cell_type": "code",
   "execution_count": null,
   "metadata": {},
   "outputs": [],
   "source": [
    "# List Items: ordered, changeable, allows duplicate values\n",
    "\n",
    "# \n",
    "\n",
    "# Set is completely opposite to List\n",
    "\n",
    "# unordered, unchangeable, Dupes not allowed\n"
   ]
  },
  {
   "cell_type": "code",
   "execution_count": 2,
   "metadata": {},
   "outputs": [],
   "source": [
    "country_set = {'India', 'Nepal', 'Dubai', 'USA', 'England'}"
   ]
  },
  {
   "cell_type": "code",
   "execution_count": 3,
   "metadata": {},
   "outputs": [
    {
     "name": "stdout",
     "output_type": "stream",
     "text": [
      "{'Nepal', 'England', 'Dubai', 'India', 'USA'}\n"
     ]
    }
   ],
   "source": [
    "print(country_set)"
   ]
  },
  {
   "cell_type": "code",
   "execution_count": 4,
   "metadata": {},
   "outputs": [
    {
     "name": "stdout",
     "output_type": "stream",
     "text": [
      "<class 'set'>\n"
     ]
    }
   ],
   "source": [
    "print(type(country_set))"
   ]
  },
  {
   "cell_type": "code",
   "execution_count": 35,
   "metadata": {},
   "outputs": [],
   "source": [
    "country_set_1 = set(('China', 'France', 'Russia'))"
   ]
  },
  {
   "cell_type": "code",
   "execution_count": 36,
   "metadata": {},
   "outputs": [
    {
     "name": "stdout",
     "output_type": "stream",
     "text": [
      "{'China', 'France', 'Russia'}\n"
     ]
    }
   ],
   "source": [
    "print(country_set_1)"
   ]
  },
  {
   "cell_type": "code",
   "execution_count": 9,
   "metadata": {},
   "outputs": [
    {
     "name": "stdout",
     "output_type": "stream",
     "text": [
      "country_name is :  Nepal\n",
      "country_name is :  England\n",
      "country_name is :  Dubai\n",
      "country_name is :  India\n",
      "country_name is :  USA\n",
      "country_name is :  Australia\n"
     ]
    }
   ],
   "source": [
    "for country_name in country_set:\n",
    "    print('country_name is : ', country_name)"
   ]
  },
  {
   "cell_type": "code",
   "execution_count": 8,
   "metadata": {},
   "outputs": [],
   "source": [
    "country_set.add(\"Australia\")"
   ]
  },
  {
   "cell_type": "code",
   "execution_count": 10,
   "metadata": {},
   "outputs": [],
   "source": [
    "# update feature to update the set values\n",
    "\n",
    "# remove function\n",
    "\n",
    "country_set.remove(\"Dubai\")"
   ]
  },
  {
   "cell_type": "code",
   "execution_count": 14,
   "metadata": {},
   "outputs": [
    {
     "name": "stdout",
     "output_type": "stream",
     "text": [
      "country_name is :  Australia\n",
      "country_name is :  India\n",
      "country_name is :  Nepal\n",
      "country_name is :  USA\n",
      "country_name is :  England\n"
     ]
    }
   ],
   "source": [
    "for country_name in country_set:\n",
    "    print('country_name is : ', country_name)"
   ]
  },
  {
   "cell_type": "code",
   "execution_count": 11,
   "metadata": {},
   "outputs": [],
   "source": [
    "# If value doesn't exist, it won't throw any error\n",
    "country_set.discard(\"Dubai\")"
   ]
  },
  {
   "cell_type": "code",
   "execution_count": 12,
   "metadata": {},
   "outputs": [
    {
     "ename": "KeyError",
     "evalue": "'Dubai'",
     "output_type": "error",
     "traceback": [
      "\u001b[1;31m---------------------------------------------------------------------------\u001b[0m",
      "\u001b[1;31mKeyError\u001b[0m                                  Traceback (most recent call last)",
      "\u001b[1;32m<ipython-input-12-089eab0dd499>\u001b[0m in \u001b[0;36m<module>\u001b[1;34m\u001b[0m\n\u001b[0;32m      1\u001b[0m \u001b[1;31m# if value doesn't exist, it will throw an error\u001b[0m\u001b[1;33m\u001b[0m\u001b[1;33m\u001b[0m\u001b[1;33m\u001b[0m\u001b[0m\n\u001b[1;32m----> 2\u001b[1;33m \u001b[0mcountry_set\u001b[0m\u001b[1;33m.\u001b[0m\u001b[0mremove\u001b[0m\u001b[1;33m(\u001b[0m\u001b[1;34m\"Dubai\"\u001b[0m\u001b[1;33m)\u001b[0m\u001b[1;33m\u001b[0m\u001b[1;33m\u001b[0m\u001b[0m\n\u001b[0m",
      "\u001b[1;31mKeyError\u001b[0m: 'Dubai'"
     ]
    }
   ],
   "source": [
    "# if value doesn't exist, it will throw an error\n",
    "country_set.remove(\"Dubai\")"
   ]
  },
  {
   "cell_type": "code",
   "execution_count": 13,
   "metadata": {},
   "outputs": [],
   "source": [
    "country_set_new = country_set.union(country_set_1)"
   ]
  },
  {
   "cell_type": "code",
   "execution_count": 14,
   "metadata": {},
   "outputs": [
    {
     "name": "stdout",
     "output_type": "stream",
     "text": [
      "{'Nepal', 'England', 'USA', 'Australia', 'China', 'Russia', 'France', 'India'}\n"
     ]
    }
   ],
   "source": [
    "print(country_set_new)"
   ]
  },
  {
   "cell_type": "code",
   "execution_count": 15,
   "metadata": {},
   "outputs": [],
   "source": [
    "country_set.update(country_set_1)"
   ]
  },
  {
   "cell_type": "code",
   "execution_count": 16,
   "metadata": {},
   "outputs": [
    {
     "name": "stdout",
     "output_type": "stream",
     "text": [
      "{'Nepal', 'England', 'India', 'Russia', 'USA', 'Australia', 'China', 'France'}\n"
     ]
    }
   ],
   "source": [
    "print(country_set)"
   ]
  },
  {
   "cell_type": "code",
   "execution_count": 17,
   "metadata": {},
   "outputs": [
    {
     "name": "stdout",
     "output_type": "stream",
     "text": [
      "8\n"
     ]
    }
   ],
   "source": [
    "# update : \n",
    "\n",
    "print(len(country_set))"
   ]
  },
  {
   "cell_type": "code",
   "execution_count": 37,
   "metadata": {},
   "outputs": [
    {
     "name": "stdout",
     "output_type": "stream",
     "text": [
      "3\n"
     ]
    }
   ],
   "source": [
    "print(len(country_set_1))"
   ]
  },
  {
   "cell_type": "code",
   "execution_count": 38,
   "metadata": {},
   "outputs": [],
   "source": [
    "country_set_2 = {'Abu Dhabi', 'England', 'France', 'Spain'}"
   ]
  },
  {
   "cell_type": "code",
   "execution_count": 39,
   "metadata": {},
   "outputs": [
    {
     "name": "stdout",
     "output_type": "stream",
     "text": [
      "4\n"
     ]
    }
   ],
   "source": [
    "print(len(country_set_2))"
   ]
  },
  {
   "cell_type": "code",
   "execution_count": 40,
   "metadata": {},
   "outputs": [
    {
     "name": "stdout",
     "output_type": "stream",
     "text": [
      "{'China', 'France', 'Russia'}\n"
     ]
    }
   ],
   "source": [
    "print(country_set_1)"
   ]
  },
  {
   "cell_type": "code",
   "execution_count": 41,
   "metadata": {},
   "outputs": [],
   "source": [
    "country_set_1.update(country_set_2)"
   ]
  },
  {
   "cell_type": "code",
   "execution_count": 42,
   "metadata": {},
   "outputs": [
    {
     "name": "stdout",
     "output_type": "stream",
     "text": [
      "{'Abu Dhabi', 'England', 'Spain', 'China', 'France', 'Russia'}\n"
     ]
    }
   ],
   "source": [
    "print(country_set_1)"
   ]
  },
  {
   "cell_type": "code",
   "execution_count": 43,
   "metadata": {},
   "outputs": [
    {
     "name": "stdout",
     "output_type": "stream",
     "text": [
      "{'Abu Dhabi', 'England', 'Spain', 'China', 'France', 'Russia'}\n"
     ]
    }
   ],
   "source": [
    "print(country_set_1)"
   ]
  },
  {
   "cell_type": "code",
   "execution_count": 26,
   "metadata": {},
   "outputs": [
    {
     "name": "stdout",
     "output_type": "stream",
     "text": [
      "6\n"
     ]
    }
   ],
   "source": [
    "print(len(country_set_1))"
   ]
  },
  {
   "cell_type": "code",
   "execution_count": 27,
   "metadata": {},
   "outputs": [
    {
     "name": "stdout",
     "output_type": "stream",
     "text": [
      "6\n"
     ]
    }
   ],
   "source": [
    "print(4+3-1)"
   ]
  },
  {
   "cell_type": "code",
   "execution_count": 28,
   "metadata": {},
   "outputs": [],
   "source": [
    "# remove the elements from Set\n",
    "# discard(), remove()\n",
    "# pop() "
   ]
  },
  {
   "cell_type": "code",
   "execution_count": 29,
   "metadata": {},
   "outputs": [
    {
     "name": "stdout",
     "output_type": "stream",
     "text": [
      "{'Abu Dhabi', 'England', 'Spain', 'China', 'France', 'Russia'}\n"
     ]
    }
   ],
   "source": [
    "print(country_set_1)"
   ]
  },
  {
   "cell_type": "code",
   "execution_count": 31,
   "metadata": {},
   "outputs": [],
   "source": [
    "last_element_from_country_set_1 = country_set_1.pop()"
   ]
  },
  {
   "cell_type": "code",
   "execution_count": 32,
   "metadata": {},
   "outputs": [
    {
     "name": "stdout",
     "output_type": "stream",
     "text": [
      "{'England', 'Spain', 'China', 'France', 'Russia'}\n"
     ]
    }
   ],
   "source": [
    "print(country_set_1)"
   ]
  },
  {
   "cell_type": "code",
   "execution_count": 33,
   "metadata": {},
   "outputs": [],
   "source": [
    "# delete the collection object/set\n",
    "# del   ----> deletes complete object\n",
    "# clear ---> clear the elements of object\n",
    "\n",
    "del country_set_1\n"
   ]
  },
  {
   "cell_type": "code",
   "execution_count": 34,
   "metadata": {},
   "outputs": [
    {
     "ename": "NameError",
     "evalue": "name 'country_set_1' is not defined",
     "output_type": "error",
     "traceback": [
      "\u001b[1;31m---------------------------------------------------------------------------\u001b[0m",
      "\u001b[1;31mNameError\u001b[0m                                 Traceback (most recent call last)",
      "\u001b[1;32m<ipython-input-34-301e5a43d5ca>\u001b[0m in \u001b[0;36m<module>\u001b[1;34m\u001b[0m\n\u001b[1;32m----> 1\u001b[1;33m \u001b[0mprint\u001b[0m\u001b[1;33m(\u001b[0m\u001b[0mcountry_set_1\u001b[0m\u001b[1;33m)\u001b[0m\u001b[1;33m\u001b[0m\u001b[1;33m\u001b[0m\u001b[0m\n\u001b[0m",
      "\u001b[1;31mNameError\u001b[0m: name 'country_set_1' is not defined"
     ]
    }
   ],
   "source": [
    "print(country_set_1)"
   ]
  },
  {
   "cell_type": "code",
   "execution_count": 44,
   "metadata": {},
   "outputs": [
    {
     "name": "stdout",
     "output_type": "stream",
     "text": [
      "{'Abu Dhabi', 'England', 'Spain', 'China', 'France', 'Russia'}\n"
     ]
    }
   ],
   "source": [
    "print(country_set_1)"
   ]
  },
  {
   "cell_type": "code",
   "execution_count": 45,
   "metadata": {},
   "outputs": [],
   "source": [
    "country_set_1.clear()"
   ]
  },
  {
   "cell_type": "code",
   "execution_count": 46,
   "metadata": {},
   "outputs": [
    {
     "name": "stdout",
     "output_type": "stream",
     "text": [
      "set()\n"
     ]
    }
   ],
   "source": [
    "print(country_set_1)"
   ]
  },
  {
   "cell_type": "code",
   "execution_count": 47,
   "metadata": {},
   "outputs": [
    {
     "name": "stdout",
     "output_type": "stream",
     "text": [
      "{'England', 'India', 'Russia', 'USA', 'Australia', 'China', 'France'}\n"
     ]
    }
   ],
   "source": [
    "print(country_set)"
   ]
  },
  {
   "cell_type": "code",
   "execution_count": 48,
   "metadata": {},
   "outputs": [
    {
     "name": "stdout",
     "output_type": "stream",
     "text": [
      "{'Abu Dhabi', 'England', 'France', 'Spain'}\n"
     ]
    }
   ],
   "source": [
    "print(country_set_2)"
   ]
  },
  {
   "cell_type": "code",
   "execution_count": 49,
   "metadata": {},
   "outputs": [],
   "source": [
    "# intersection_update()\n",
    "\n",
    "country_set_2.update(country_set)"
   ]
  },
  {
   "cell_type": "code",
   "execution_count": 50,
   "metadata": {},
   "outputs": [
    {
     "name": "stdout",
     "output_type": "stream",
     "text": [
      "{'England', 'China', 'India', 'Russia', 'USA', 'Australia', 'Abu Dhabi', 'France', 'Spain'}\n"
     ]
    }
   ],
   "source": [
    "print(country_set_2)"
   ]
  },
  {
   "cell_type": "code",
   "execution_count": 51,
   "metadata": {},
   "outputs": [],
   "source": [
    "country_set_1 = {'England', 'India', 'Russia', 'USA', 'Australia', 'China', 'France'}"
   ]
  },
  {
   "cell_type": "code",
   "execution_count": 52,
   "metadata": {},
   "outputs": [
    {
     "name": "stdout",
     "output_type": "stream",
     "text": [
      "{'England', 'Russia', 'India', 'USA', 'Australia', 'China', 'France'}\n"
     ]
    }
   ],
   "source": [
    "print(country_set_1)"
   ]
  },
  {
   "cell_type": "code",
   "execution_count": 53,
   "metadata": {},
   "outputs": [],
   "source": [
    "country_set_3 = {'Abu Dhabi', 'England', 'France', 'Spain'}"
   ]
  },
  {
   "cell_type": "code",
   "execution_count": 54,
   "metadata": {},
   "outputs": [
    {
     "name": "stdout",
     "output_type": "stream",
     "text": [
      "{'Abu Dhabi', 'England', 'France', 'Spain'}\n"
     ]
    }
   ],
   "source": [
    "print(country_set_3)"
   ]
  },
  {
   "cell_type": "code",
   "execution_count": 55,
   "metadata": {},
   "outputs": [
    {
     "name": "stdout",
     "output_type": "stream",
     "text": [
      "4\n"
     ]
    }
   ],
   "source": [
    "print(len(country_set_3))"
   ]
  },
  {
   "cell_type": "code",
   "execution_count": 56,
   "metadata": {},
   "outputs": [
    {
     "name": "stdout",
     "output_type": "stream",
     "text": [
      "7\n"
     ]
    }
   ],
   "source": [
    "print(len(country_set_1))"
   ]
  },
  {
   "cell_type": "code",
   "execution_count": 57,
   "metadata": {},
   "outputs": [],
   "source": [
    "country_set_3.intersection_update(country_set_1)"
   ]
  },
  {
   "cell_type": "code",
   "execution_count": 58,
   "metadata": {},
   "outputs": [
    {
     "name": "stdout",
     "output_type": "stream",
     "text": [
      "{'England', 'France'}\n"
     ]
    }
   ],
   "source": [
    "print(country_set_3)"
   ]
  },
  {
   "cell_type": "code",
   "execution_count": 59,
   "metadata": {},
   "outputs": [],
   "source": [
    "country_set_4 = {'Abu Dhabi', 'England', 'France', 'Spain'}"
   ]
  },
  {
   "cell_type": "code",
   "execution_count": 60,
   "metadata": {},
   "outputs": [
    {
     "name": "stdout",
     "output_type": "stream",
     "text": [
      "{'Abu Dhabi', 'England', 'France', 'Spain'}\n"
     ]
    }
   ],
   "source": [
    "print(country_set_4)"
   ]
  },
  {
   "cell_type": "code",
   "execution_count": 61,
   "metadata": {},
   "outputs": [
    {
     "name": "stdout",
     "output_type": "stream",
     "text": [
      "{'England', 'Russia', 'India', 'USA', 'Australia', 'China', 'France'}\n"
     ]
    }
   ],
   "source": [
    "print(country_set_1)"
   ]
  },
  {
   "cell_type": "code",
   "execution_count": 62,
   "metadata": {},
   "outputs": [
    {
     "data": {
      "text/plain": [
       "{'England', 'France'}"
      ]
     },
     "execution_count": 62,
     "metadata": {},
     "output_type": "execute_result"
    }
   ],
   "source": [
    "country_set_4.intersection(country_set_1)"
   ]
  },
  {
   "cell_type": "code",
   "execution_count": 63,
   "metadata": {},
   "outputs": [
    {
     "name": "stdout",
     "output_type": "stream",
     "text": [
      "{'Abu Dhabi', 'England', 'France', 'Spain'}\n"
     ]
    }
   ],
   "source": [
    "print(country_set_4)"
   ]
  },
  {
   "cell_type": "code",
   "execution_count": 64,
   "metadata": {},
   "outputs": [],
   "source": [
    "# symmetric_difference\n",
    "# symmetric_difference_update()"
   ]
  },
  {
   "cell_type": "code",
   "execution_count": 65,
   "metadata": {},
   "outputs": [
    {
     "name": "stdout",
     "output_type": "stream",
     "text": [
      "Help on class set in module builtins:\n",
      "\n",
      "class set(object)\n",
      " |  set() -> new empty set object\n",
      " |  set(iterable) -> new set object\n",
      " |  \n",
      " |  Build an unordered collection of unique elements.\n",
      " |  \n",
      " |  Methods defined here:\n",
      " |  \n",
      " |  __and__(self, value, /)\n",
      " |      Return self&value.\n",
      " |  \n",
      " |  __contains__(...)\n",
      " |      x.__contains__(y) <==> y in x.\n",
      " |  \n",
      " |  __eq__(self, value, /)\n",
      " |      Return self==value.\n",
      " |  \n",
      " |  __ge__(self, value, /)\n",
      " |      Return self>=value.\n",
      " |  \n",
      " |  __getattribute__(self, name, /)\n",
      " |      Return getattr(self, name).\n",
      " |  \n",
      " |  __gt__(self, value, /)\n",
      " |      Return self>value.\n",
      " |  \n",
      " |  __iand__(self, value, /)\n",
      " |      Return self&=value.\n",
      " |  \n",
      " |  __init__(self, /, *args, **kwargs)\n",
      " |      Initialize self.  See help(type(self)) for accurate signature.\n",
      " |  \n",
      " |  __ior__(self, value, /)\n",
      " |      Return self|=value.\n",
      " |  \n",
      " |  __isub__(self, value, /)\n",
      " |      Return self-=value.\n",
      " |  \n",
      " |  __iter__(self, /)\n",
      " |      Implement iter(self).\n",
      " |  \n",
      " |  __ixor__(self, value, /)\n",
      " |      Return self^=value.\n",
      " |  \n",
      " |  __le__(self, value, /)\n",
      " |      Return self<=value.\n",
      " |  \n",
      " |  __len__(self, /)\n",
      " |      Return len(self).\n",
      " |  \n",
      " |  __lt__(self, value, /)\n",
      " |      Return self<value.\n",
      " |  \n",
      " |  __ne__(self, value, /)\n",
      " |      Return self!=value.\n",
      " |  \n",
      " |  __or__(self, value, /)\n",
      " |      Return self|value.\n",
      " |  \n",
      " |  __rand__(self, value, /)\n",
      " |      Return value&self.\n",
      " |  \n",
      " |  __reduce__(...)\n",
      " |      Return state information for pickling.\n",
      " |  \n",
      " |  __repr__(self, /)\n",
      " |      Return repr(self).\n",
      " |  \n",
      " |  __ror__(self, value, /)\n",
      " |      Return value|self.\n",
      " |  \n",
      " |  __rsub__(self, value, /)\n",
      " |      Return value-self.\n",
      " |  \n",
      " |  __rxor__(self, value, /)\n",
      " |      Return value^self.\n",
      " |  \n",
      " |  __sizeof__(...)\n",
      " |      S.__sizeof__() -> size of S in memory, in bytes\n",
      " |  \n",
      " |  __sub__(self, value, /)\n",
      " |      Return self-value.\n",
      " |  \n",
      " |  __xor__(self, value, /)\n",
      " |      Return self^value.\n",
      " |  \n",
      " |  add(...)\n",
      " |      Add an element to a set.\n",
      " |      \n",
      " |      This has no effect if the element is already present.\n",
      " |  \n",
      " |  clear(...)\n",
      " |      Remove all elements from this set.\n",
      " |  \n",
      " |  copy(...)\n",
      " |      Return a shallow copy of a set.\n",
      " |  \n",
      " |  difference(...)\n",
      " |      Return the difference of two or more sets as a new set.\n",
      " |      \n",
      " |      (i.e. all elements that are in this set but not the others.)\n",
      " |  \n",
      " |  difference_update(...)\n",
      " |      Remove all elements of another set from this set.\n",
      " |  \n",
      " |  discard(...)\n",
      " |      Remove an element from a set if it is a member.\n",
      " |      \n",
      " |      If the element is not a member, do nothing.\n",
      " |  \n",
      " |  intersection(...)\n",
      " |      Return the intersection of two sets as a new set.\n",
      " |      \n",
      " |      (i.e. all elements that are in both sets.)\n",
      " |  \n",
      " |  intersection_update(...)\n",
      " |      Update a set with the intersection of itself and another.\n",
      " |  \n",
      " |  isdisjoint(...)\n",
      " |      Return True if two sets have a null intersection.\n",
      " |  \n",
      " |  issubset(...)\n",
      " |      Report whether another set contains this set.\n",
      " |  \n",
      " |  issuperset(...)\n",
      " |      Report whether this set contains another set.\n",
      " |  \n",
      " |  pop(...)\n",
      " |      Remove and return an arbitrary set element.\n",
      " |      Raises KeyError if the set is empty.\n",
      " |  \n",
      " |  remove(...)\n",
      " |      Remove an element from a set; it must be a member.\n",
      " |      \n",
      " |      If the element is not a member, raise a KeyError.\n",
      " |  \n",
      " |  symmetric_difference(...)\n",
      " |      Return the symmetric difference of two sets as a new set.\n",
      " |      \n",
      " |      (i.e. all elements that are in exactly one of the sets.)\n",
      " |  \n",
      " |  symmetric_difference_update(...)\n",
      " |      Update a set with the symmetric difference of itself and another.\n",
      " |  \n",
      " |  union(...)\n",
      " |      Return the union of sets as a new set.\n",
      " |      \n",
      " |      (i.e. all elements that are in either set.)\n",
      " |  \n",
      " |  update(...)\n",
      " |      Update a set with the union of itself and others.\n",
      " |  \n",
      " |  ----------------------------------------------------------------------\n",
      " |  Static methods defined here:\n",
      " |  \n",
      " |  __new__(*args, **kwargs) from builtins.type\n",
      " |      Create and return a new object.  See help(type) for accurate signature.\n",
      " |  \n",
      " |  ----------------------------------------------------------------------\n",
      " |  Data and other attributes defined here:\n",
      " |  \n",
      " |  __hash__ = None\n",
      "\n"
     ]
    }
   ],
   "source": [
    "help(set)"
   ]
  },
  {
   "cell_type": "code",
   "execution_count": 66,
   "metadata": {},
   "outputs": [],
   "source": [
    "# JSON, XML Format ---> Key & Value\n",
    "\n",
    "# Dictionary :  key, value based representation\n",
    "\n",
    "\n",
    "# unordered, changeable and no dupes\n",
    "\n"
   ]
  },
  {
   "cell_type": "code",
   "execution_count": 69,
   "metadata": {},
   "outputs": [],
   "source": [
    "my_dict = {\"Key_1\":\"Value_1\",\n",
    "           \"Key_2\":\"Value_2\",\n",
    "           \"Key_3\":\"Value_3\"\n",
    "          }\n",
    "        "
   ]
  },
  {
   "cell_type": "code",
   "execution_count": 70,
   "metadata": {},
   "outputs": [
    {
     "name": "stdout",
     "output_type": "stream",
     "text": [
      "{'Key_1': 'Value_1', 'Key_2': 'Value_2', 'Key_3': 'Value_3'}\n"
     ]
    }
   ],
   "source": [
    "print(my_dict)"
   ]
  },
  {
   "cell_type": "code",
   "execution_count": 72,
   "metadata": {},
   "outputs": [
    {
     "name": "stdout",
     "output_type": "stream",
     "text": [
      "Value_1\n"
     ]
    }
   ],
   "source": [
    "print(my_dict[\"Key_1\"])"
   ]
  },
  {
   "cell_type": "code",
   "execution_count": 73,
   "metadata": {},
   "outputs": [
    {
     "name": "stdout",
     "output_type": "stream",
     "text": [
      "Value_2\n"
     ]
    }
   ],
   "source": [
    "print(my_dict[\"Key_2\"])"
   ]
  },
  {
   "cell_type": "code",
   "execution_count": 74,
   "metadata": {},
   "outputs": [],
   "source": [
    "my_dict_1 = {\"Key_1\":\"Value_1\",\n",
    "           \"Key_2\":\"Value_2\",\n",
    "           \"Key_3\":\"Value_2\"\n",
    "          }"
   ]
  },
  {
   "cell_type": "code",
   "execution_count": 75,
   "metadata": {},
   "outputs": [
    {
     "data": {
      "text/plain": [
       "'Value_2'"
      ]
     },
     "execution_count": 75,
     "metadata": {},
     "output_type": "execute_result"
    }
   ],
   "source": [
    "my_dict_1[\"Key_2\"]"
   ]
  },
  {
   "cell_type": "code",
   "execution_count": 76,
   "metadata": {},
   "outputs": [
    {
     "data": {
      "text/plain": [
       "'Value_2'"
      ]
     },
     "execution_count": 76,
     "metadata": {},
     "output_type": "execute_result"
    }
   ],
   "source": [
    "my_dict_1[\"Key_3\"]"
   ]
  },
  {
   "cell_type": "code",
   "execution_count": 114,
   "metadata": {},
   "outputs": [],
   "source": [
    "# it contains mixture of the data. \n",
    "\n",
    "\n",
    "student_info = {\n",
    "    \"stu_name\":\"John\",\n",
    "    \"stu_grade\":\"10\",\n",
    "    \"stu_sub_1\":\"English\",\n",
    "    \"stu_sub_1_marks\":60,\n",
    "    \"stu_sub_1_pass_status\":True\n",
    "}\n"
   ]
  },
  {
   "cell_type": "code",
   "execution_count": 81,
   "metadata": {},
   "outputs": [
    {
     "name": "stdout",
     "output_type": "stream",
     "text": [
      "{'stu_name': 'John', 'stu_grade': '10', 'stu_sub_1': 'English', 'stu_sub_1_marks': 60, 'stu_sub_1_pass_status': True}\n"
     ]
    }
   ],
   "source": [
    "print(student_info)"
   ]
  },
  {
   "cell_type": "code",
   "execution_count": 82,
   "metadata": {},
   "outputs": [
    {
     "data": {
      "text/plain": [
       "'John'"
      ]
     },
     "execution_count": 82,
     "metadata": {},
     "output_type": "execute_result"
    }
   ],
   "source": [
    "student_info.get(\"stu_name\")"
   ]
  },
  {
   "cell_type": "code",
   "execution_count": 83,
   "metadata": {},
   "outputs": [
    {
     "name": "stdout",
     "output_type": "stream",
     "text": [
      "dict_keys(['stu_name', 'stu_grade', 'stu_sub_1', 'stu_sub_1_marks', 'stu_sub_1_pass_status'])\n"
     ]
    }
   ],
   "source": [
    "print(student_info.keys())"
   ]
  },
  {
   "cell_type": "code",
   "execution_count": 84,
   "metadata": {},
   "outputs": [],
   "source": [
    "student_info[\"stu_sub_1_marks\"] = 80"
   ]
  },
  {
   "cell_type": "code",
   "execution_count": 85,
   "metadata": {},
   "outputs": [
    {
     "name": "stdout",
     "output_type": "stream",
     "text": [
      "{'stu_name': 'John', 'stu_grade': '10', 'stu_sub_1': 'English', 'stu_sub_1_marks': 80, 'stu_sub_1_pass_status': True}\n"
     ]
    }
   ],
   "source": [
    "print(student_info)"
   ]
  },
  {
   "cell_type": "code",
   "execution_count": 86,
   "metadata": {},
   "outputs": [
    {
     "name": "stdout",
     "output_type": "stream",
     "text": [
      "dict_values(['John', '10', 'English', 80, True])\n"
     ]
    }
   ],
   "source": [
    "print(student_info.values())"
   ]
  },
  {
   "cell_type": "code",
   "execution_count": 87,
   "metadata": {},
   "outputs": [],
   "source": [
    "student_info.get(\"student_info_1\")"
   ]
  },
  {
   "cell_type": "code",
   "execution_count": 88,
   "metadata": {},
   "outputs": [
    {
     "name": "stdout",
     "output_type": "stream",
     "text": [
      "stu_name\n",
      "stu_grade\n",
      "stu_sub_1\n",
      "stu_sub_1_marks\n",
      "stu_sub_1_pass_status\n"
     ]
    }
   ],
   "source": [
    "\n",
    "for stu_details in student_info:\n",
    "    print(stu_details)\n"
   ]
  },
  {
   "cell_type": "code",
   "execution_count": 94,
   "metadata": {},
   "outputs": [
    {
     "name": "stdout",
     "output_type": "stream",
     "text": [
      " Key name is:  stu_name  : Value is :  John\n",
      " Key name is:  stu_grade  : Value is :  10\n",
      " Key name is:  stu_sub_1  : Value is :  English\n",
      " Key name is:  stu_sub_1_marks  : Value is :  80\n",
      " Key name is:  stu_sub_1_pass_status  : Value is :  True\n",
      " Key name is:  stu_sub_2  : Value is :  Mathematics\n"
     ]
    }
   ],
   "source": [
    "for stu_details in student_info:\n",
    "    print(' Key name is: ', stu_details, ' : Value is : ', student_info[stu_details])"
   ]
  },
  {
   "cell_type": "code",
   "execution_count": 91,
   "metadata": {},
   "outputs": [],
   "source": [
    "#for stu_details in student_info:\n",
    "if \"my_new_key\" in student_info:\n",
    "    print(' Key name is: ', stu_details, ' : Value is : ', student_info[stu_details])"
   ]
  },
  {
   "cell_type": "code",
   "execution_count": 92,
   "metadata": {},
   "outputs": [
    {
     "name": "stdout",
     "output_type": "stream",
     "text": [
      " Key name is:  stu_sub_1_pass_status  : Value is :  True\n"
     ]
    }
   ],
   "source": [
    "if \"stu_sub_1_marks\" in student_info:\n",
    "    print(' Key name is: ', stu_details, ' : Value is : ', student_info[stu_details])"
   ]
  },
  {
   "cell_type": "code",
   "execution_count": 93,
   "metadata": {},
   "outputs": [],
   "source": [
    "student_info.update({\"stu_sub_2\": \"Mathematics\"})"
   ]
  },
  {
   "cell_type": "code",
   "execution_count": 95,
   "metadata": {},
   "outputs": [],
   "source": [
    "student_info.update({\"stu_sub_2_marks\": \"90\", \"stu_sub_2_pass_status\": True})\n",
    "\n",
    "\n"
   ]
  },
  {
   "cell_type": "code",
   "execution_count": 96,
   "metadata": {},
   "outputs": [
    {
     "name": "stdout",
     "output_type": "stream",
     "text": [
      "{'stu_name': 'John', 'stu_grade': '10', 'stu_sub_1': 'English', 'stu_sub_1_marks': 80, 'stu_sub_1_pass_status': True, 'stu_sub_2': 'Mathematics', 'stu_sub_2_marks': '90', 'stu_sub_2_pass_status': True}\n"
     ]
    }
   ],
   "source": [
    "print(student_info)"
   ]
  },
  {
   "cell_type": "code",
   "execution_count": 97,
   "metadata": {},
   "outputs": [],
   "source": [
    "student_info[\"stu_sub_2_marks\"]=70"
   ]
  },
  {
   "cell_type": "code",
   "execution_count": 98,
   "metadata": {},
   "outputs": [
    {
     "name": "stdout",
     "output_type": "stream",
     "text": [
      "{'stu_name': 'John', 'stu_grade': '10', 'stu_sub_1': 'English', 'stu_sub_1_marks': 80, 'stu_sub_1_pass_status': True, 'stu_sub_2': 'Mathematics', 'stu_sub_2_marks': 70, 'stu_sub_2_pass_status': True}\n"
     ]
    }
   ],
   "source": [
    "print(student_info)"
   ]
  },
  {
   "cell_type": "code",
   "execution_count": 99,
   "metadata": {},
   "outputs": [
    {
     "data": {
      "text/plain": [
       "True"
      ]
     },
     "execution_count": 99,
     "metadata": {},
     "output_type": "execute_result"
    }
   ],
   "source": [
    "student_info.pop(\"stu_sub_2_pass_status\")"
   ]
  },
  {
   "cell_type": "code",
   "execution_count": 100,
   "metadata": {},
   "outputs": [
    {
     "name": "stdout",
     "output_type": "stream",
     "text": [
      "{'stu_name': 'John', 'stu_grade': '10', 'stu_sub_1': 'English', 'stu_sub_1_marks': 80, 'stu_sub_1_pass_status': True, 'stu_sub_2': 'Mathematics', 'stu_sub_2_marks': 70}\n"
     ]
    }
   ],
   "source": [
    "print(student_info)"
   ]
  },
  {
   "cell_type": "code",
   "execution_count": 101,
   "metadata": {},
   "outputs": [
    {
     "name": "stdout",
     "output_type": "stream",
     "text": [
      "7\n"
     ]
    }
   ],
   "source": [
    "print(len(student_info))"
   ]
  },
  {
   "cell_type": "code",
   "execution_count": 102,
   "metadata": {},
   "outputs": [
    {
     "name": "stdout",
     "output_type": "stream",
     "text": [
      "key name is:  stu_name\n",
      "key name is:  stu_grade\n",
      "key name is:  stu_sub_1\n",
      "key name is:  stu_sub_1_marks\n",
      "key name is:  stu_sub_1_pass_status\n",
      "key name is:  stu_sub_2\n",
      "key name is:  stu_sub_2_marks\n"
     ]
    }
   ],
   "source": [
    "for my_keys in student_info.keys():\n",
    "    print('key name is: ', my_keys)"
   ]
  },
  {
   "cell_type": "code",
   "execution_count": 103,
   "metadata": {},
   "outputs": [
    {
     "name": "stdout",
     "output_type": "stream",
     "text": [
      "stu_name John\n",
      "stu_grade 10\n",
      "stu_sub_1 English\n",
      "stu_sub_1_marks 80\n",
      "stu_sub_1_pass_status True\n",
      "stu_sub_2 Mathematics\n",
      "stu_sub_2_marks 70\n"
     ]
    }
   ],
   "source": [
    "# items() used to get both key , value\n",
    "\n",
    "for my_key, my_value in student_info.items():\n",
    "    print(my_key, my_value)"
   ]
  },
  {
   "cell_type": "code",
   "execution_count": 104,
   "metadata": {},
   "outputs": [
    {
     "name": "stdout",
     "output_type": "stream",
     "text": [
      "7\n"
     ]
    }
   ],
   "source": [
    "print(len(student_info))"
   ]
  },
  {
   "cell_type": "code",
   "execution_count": 105,
   "metadata": {},
   "outputs": [],
   "source": [
    "my_new_student_info = student_info.copy()"
   ]
  },
  {
   "cell_type": "code",
   "execution_count": 106,
   "metadata": {},
   "outputs": [
    {
     "name": "stdout",
     "output_type": "stream",
     "text": [
      "{'stu_name': 'John', 'stu_grade': '10', 'stu_sub_1': 'English', 'stu_sub_1_marks': 80, 'stu_sub_1_pass_status': True, 'stu_sub_2': 'Mathematics', 'stu_sub_2_marks': 70}\n"
     ]
    }
   ],
   "source": [
    "print(my_new_student_info)"
   ]
  },
  {
   "cell_type": "code",
   "execution_count": 108,
   "metadata": {},
   "outputs": [],
   "source": [
    "# nested dictionary objects\n",
    "\n",
    "my_class_info = {\n",
    "    \"student_info_1\" : {\n",
    "    \"stu_name\":\"John\",\n",
    "    \"stu_grade\":\"10\",\n",
    "    \"stu_sub_1\":\"English\",\n",
    "    \"stu_sub_1_marks\":60,\n",
    "    \"stu_sub_1_pass_status\":True\n",
    "    },\n",
    "    \n",
    "    \"student_info_2\" : {\n",
    "    \"stu_name\":\"Ram\",\n",
    "    \"stu_grade\":\"10\",\n",
    "    \"stu_sub_1\":\"English\",\n",
    "    \"stu_sub_1_marks\":70,\n",
    "    \"stu_sub_1_pass_status\":True\n",
    "    },\n",
    "    \n",
    "    \"student_info_3\" : {\n",
    "    \"stu_name\":\"Sri\",\n",
    "    \"stu_grade\":\"10\",\n",
    "    \"stu_sub_1\":\"English\",\n",
    "    \"stu_sub_1_marks\":76,\n",
    "    \"stu_sub_1_pass_status\":True\n",
    "    }\n",
    "    \n",
    "}"
   ]
  },
  {
   "cell_type": "code",
   "execution_count": 109,
   "metadata": {},
   "outputs": [
    {
     "name": "stdout",
     "output_type": "stream",
     "text": [
      "{'student_info_1': {'stu_name': 'John', 'stu_grade': '10', 'stu_sub_1': 'English', 'stu_sub_1_marks': 60, 'stu_sub_1_pass_status': True}, 'student_info_2': {'stu_name': 'Ram', 'stu_grade': '10', 'stu_sub_1': 'English', 'stu_sub_1_marks': 70, 'stu_sub_1_pass_status': True}, 'student_info_3': {'stu_name': 'Sri', 'stu_grade': '10', 'stu_sub_1': 'English', 'stu_sub_1_marks': 76, 'stu_sub_1_pass_status': True}}\n"
     ]
    }
   ],
   "source": [
    "print(my_class_info)"
   ]
  },
  {
   "cell_type": "code",
   "execution_count": 110,
   "metadata": {},
   "outputs": [
    {
     "name": "stdout",
     "output_type": "stream",
     "text": [
      "{'stu_name': 'John', 'stu_grade': '10', 'stu_sub_1': 'English', 'stu_sub_1_marks': 80, 'stu_sub_1_pass_status': True, 'stu_sub_2': 'Mathematics', 'stu_sub_2_marks': 70}\n"
     ]
    }
   ],
   "source": [
    "# delete a key: \n",
    "\n",
    "print(student_info)"
   ]
  },
  {
   "cell_type": "code",
   "execution_count": 113,
   "metadata": {},
   "outputs": [],
   "source": [
    "del student_info"
   ]
  },
  {
   "cell_type": "code",
   "execution_count": 115,
   "metadata": {},
   "outputs": [
    {
     "name": "stdout",
     "output_type": "stream",
     "text": [
      "{'stu_name': 'John', 'stu_grade': '10', 'stu_sub_1': 'English', 'stu_sub_1_marks': 60, 'stu_sub_1_pass_status': True}\n"
     ]
    }
   ],
   "source": [
    "print(student_info)"
   ]
  },
  {
   "cell_type": "code",
   "execution_count": 116,
   "metadata": {},
   "outputs": [],
   "source": [
    "del student_info[\"stu_sub_1_pass_status\"]"
   ]
  },
  {
   "cell_type": "code",
   "execution_count": 117,
   "metadata": {},
   "outputs": [
    {
     "name": "stdout",
     "output_type": "stream",
     "text": [
      "{'stu_name': 'John', 'stu_grade': '10', 'stu_sub_1': 'English', 'stu_sub_1_marks': 60}\n"
     ]
    }
   ],
   "source": [
    "print(student_info)"
   ]
  },
  {
   "cell_type": "code",
   "execution_count": 118,
   "metadata": {},
   "outputs": [],
   "source": [
    "# removing based on key or complete pair\n",
    "# pop, popitem\n",
    "\n",
    "\n"
   ]
  },
  {
   "cell_type": "code",
   "execution_count": 119,
   "metadata": {},
   "outputs": [],
   "source": [
    "# Tuple collection object"
   ]
  },
  {
   "cell_type": "code",
   "execution_count": 120,
   "metadata": {},
   "outputs": [],
   "source": [
    "# Ordered \n",
    "# Non modifiable\n"
   ]
  },
  {
   "cell_type": "code",
   "execution_count": 121,
   "metadata": {},
   "outputs": [],
   "source": [
    "# {} [] ()\n",
    "\n",
    "country_tuple_1 = ('England', 'India', 'Russia', 'USA', 'Australia', 'China', 'France')"
   ]
  },
  {
   "cell_type": "code",
   "execution_count": 122,
   "metadata": {},
   "outputs": [
    {
     "name": "stdout",
     "output_type": "stream",
     "text": [
      "('England', 'India', 'Russia', 'USA', 'Australia', 'China', 'France')\n"
     ]
    }
   ],
   "source": [
    "print(country_tuple_1)"
   ]
  },
  {
   "cell_type": "code",
   "execution_count": 123,
   "metadata": {},
   "outputs": [
    {
     "name": "stdout",
     "output_type": "stream",
     "text": [
      "England\n"
     ]
    }
   ],
   "source": [
    "print(country_tuple_1[0])"
   ]
  },
  {
   "cell_type": "code",
   "execution_count": 124,
   "metadata": {},
   "outputs": [
    {
     "name": "stdout",
     "output_type": "stream",
     "text": [
      "China\n"
     ]
    }
   ],
   "source": [
    "print(country_tuple_1[5])"
   ]
  },
  {
   "cell_type": "code",
   "execution_count": 125,
   "metadata": {},
   "outputs": [
    {
     "name": "stdout",
     "output_type": "stream",
     "text": [
      "<class 'tuple'>\n"
     ]
    }
   ],
   "source": [
    "print(type(country_tuple_1))"
   ]
  },
  {
   "cell_type": "code",
   "execution_count": 126,
   "metadata": {},
   "outputs": [
    {
     "name": "stdout",
     "output_type": "stream",
     "text": [
      "Help on class tuple in module builtins:\n",
      "\n",
      "class tuple(object)\n",
      " |  tuple(iterable=(), /)\n",
      " |  \n",
      " |  Built-in immutable sequence.\n",
      " |  \n",
      " |  If no argument is given, the constructor returns an empty tuple.\n",
      " |  If iterable is specified the tuple is initialized from iterable's items.\n",
      " |  \n",
      " |  If the argument is a tuple, the return value is the same object.\n",
      " |  \n",
      " |  Methods defined here:\n",
      " |  \n",
      " |  __add__(self, value, /)\n",
      " |      Return self+value.\n",
      " |  \n",
      " |  __contains__(self, key, /)\n",
      " |      Return key in self.\n",
      " |  \n",
      " |  __eq__(self, value, /)\n",
      " |      Return self==value.\n",
      " |  \n",
      " |  __ge__(self, value, /)\n",
      " |      Return self>=value.\n",
      " |  \n",
      " |  __getattribute__(self, name, /)\n",
      " |      Return getattr(self, name).\n",
      " |  \n",
      " |  __getitem__(self, key, /)\n",
      " |      Return self[key].\n",
      " |  \n",
      " |  __getnewargs__(self, /)\n",
      " |  \n",
      " |  __gt__(self, value, /)\n",
      " |      Return self>value.\n",
      " |  \n",
      " |  __hash__(self, /)\n",
      " |      Return hash(self).\n",
      " |  \n",
      " |  __iter__(self, /)\n",
      " |      Implement iter(self).\n",
      " |  \n",
      " |  __le__(self, value, /)\n",
      " |      Return self<=value.\n",
      " |  \n",
      " |  __len__(self, /)\n",
      " |      Return len(self).\n",
      " |  \n",
      " |  __lt__(self, value, /)\n",
      " |      Return self<value.\n",
      " |  \n",
      " |  __mul__(self, value, /)\n",
      " |      Return self*value.\n",
      " |  \n",
      " |  __ne__(self, value, /)\n",
      " |      Return self!=value.\n",
      " |  \n",
      " |  __repr__(self, /)\n",
      " |      Return repr(self).\n",
      " |  \n",
      " |  __rmul__(self, value, /)\n",
      " |      Return value*self.\n",
      " |  \n",
      " |  count(self, value, /)\n",
      " |      Return number of occurrences of value.\n",
      " |  \n",
      " |  index(self, value, start=0, stop=9223372036854775807, /)\n",
      " |      Return first index of value.\n",
      " |      \n",
      " |      Raises ValueError if the value is not present.\n",
      " |  \n",
      " |  ----------------------------------------------------------------------\n",
      " |  Static methods defined here:\n",
      " |  \n",
      " |  __new__(*args, **kwargs) from builtins.type\n",
      " |      Create and return a new object.  See help(type) for accurate signature.\n",
      "\n"
     ]
    }
   ],
   "source": [
    "help(tuple)"
   ]
  },
  {
   "cell_type": "code",
   "execution_count": 127,
   "metadata": {},
   "outputs": [],
   "source": [
    "\"\"\"\n",
    "\n",
    "   \"student_info_2\" : {\n",
    "    \"stu_name\":\"Ram\",\n",
    "    \"stu_grade\":\"10\",\n",
    "    \"stu_sub_1\":\"English\",\n",
    "    \"stu_sub_1_marks\":70,\n",
    "    \"stu_sub_1_pass_status\":True\n",
    "    }\n",
    "    \n",
    "\"\"\"\n",
    "\n",
    "student_info_tuple_1 = (\"Ram\", \"10\", \"English\", 70, True)"
   ]
  },
  {
   "cell_type": "code",
   "execution_count": 128,
   "metadata": {},
   "outputs": [
    {
     "name": "stdout",
     "output_type": "stream",
     "text": [
      "('Ram', '10', 'English', 70, True)\n"
     ]
    }
   ],
   "source": [
    "print(student_info_tuple_1)"
   ]
  },
  {
   "cell_type": "code",
   "execution_count": 129,
   "metadata": {},
   "outputs": [],
   "source": [
    "# tuple constructor"
   ]
  },
  {
   "cell_type": "code",
   "execution_count": 130,
   "metadata": {},
   "outputs": [],
   "source": [
    "\"\"\"\n",
    "\n",
    "    \"student_info_3\" : {\n",
    "    \"stu_name\":\"Sri\",\n",
    "    \"stu_grade\":\"10\",\n",
    "    \"stu_sub_1\":\"English\",\n",
    "    \"stu_sub_1_marks\":76,\n",
    "    \"stu_sub_1_pass_status\":True\n",
    "    }\n",
    "\"\"\"\n",
    "\n",
    "\n",
    "student_info_tuple_2 = tuple((\"Sri\", \"10\", \"English\", 76, True))"
   ]
  },
  {
   "cell_type": "code",
   "execution_count": 131,
   "metadata": {},
   "outputs": [
    {
     "name": "stdout",
     "output_type": "stream",
     "text": [
      "('Sri', '10', 'English', 76, True)\n"
     ]
    }
   ],
   "source": [
    "print(student_info_tuple_2)"
   ]
  },
  {
   "cell_type": "code",
   "execution_count": 134,
   "metadata": {},
   "outputs": [
    {
     "data": {
      "text/plain": [
       "True"
      ]
     },
     "metadata": {},
     "output_type": "display_data"
    }
   ],
   "source": [
    "display(student_info_tuple_2[-1])"
   ]
  },
  {
   "cell_type": "code",
   "execution_count": 135,
   "metadata": {},
   "outputs": [
    {
     "data": {
      "text/plain": [
       "'Sri'"
      ]
     },
     "metadata": {},
     "output_type": "display_data"
    }
   ],
   "source": [
    "display(student_info_tuple_2[0])"
   ]
  },
  {
   "cell_type": "code",
   "execution_count": 136,
   "metadata": {},
   "outputs": [
    {
     "data": {
      "text/plain": [
       "('10', 'English')"
      ]
     },
     "metadata": {},
     "output_type": "display_data"
    }
   ],
   "source": [
    "display(student_info_tuple_2[1:3])"
   ]
  },
  {
   "cell_type": "code",
   "execution_count": null,
   "metadata": {},
   "outputs": [],
   "source": [
    "# 1. sort out LMS issues\n",
    "# 2. Assignments\n",
    "\n",
    "# Training Schedule:\n",
    "# Monday, Wednesday, Friday, Saturday\n",
    "# 9:30 am TO 11:30 am IST\n",
    "# 3 TO 4 Lab.\n",
    "\n",
    "\n"
   ]
  },
  {
   "cell_type": "code",
   "execution_count": 1,
   "metadata": {},
   "outputs": [],
   "source": [
    "# for & While \n",
    "\n",
    "# for loop 3 importants params:    initialization,  condition and increment\n",
    "\n",
    "# initialization :  value can start from 0 to any other value\n",
    "\n",
    "\n"
   ]
  },
  {
   "cell_type": "code",
   "execution_count": 2,
   "metadata": {},
   "outputs": [
    {
     "name": "stdout",
     "output_type": "stream",
     "text": [
      "The value of i is:  0\n",
      "The value of i is:  1\n",
      "The value of i is:  2\n",
      "The value of i is:  3\n",
      "The value of i is:  4\n",
      "The value of i is:  5\n",
      "The value of i is:  6\n",
      "The value of i is:  7\n",
      "The value of i is:  8\n",
      "The value of i is:  9\n",
      "The value of i is:  10\n",
      "The value of i is:  11\n",
      "The value of i is:  12\n",
      "The value of i is:  13\n",
      "The value of i is:  14\n",
      "The value of i is:  15\n",
      "The value of i is:  16\n",
      "The value of i is:  17\n",
      "The value of i is:  18\n",
      "The value of i is:  19\n",
      "The value of i is:  20\n",
      "The value of i is:  21\n",
      "The value of i is:  22\n",
      "The value of i is:  23\n",
      "The value of i is:  24\n"
     ]
    }
   ],
   "source": [
    "# for & While \n",
    "\n",
    "# for loop 3 importants params:    initialization,  condition and increment\n",
    "\n",
    "# initialization :  value can start from 0 to any other value\n",
    "\n",
    "\n",
    "for i in range(25):\n",
    "    print('The value of i is: ', i)"
   ]
  },
  {
   "cell_type": "code",
   "execution_count": 3,
   "metadata": {},
   "outputs": [
    {
     "name": "stdout",
     "output_type": "stream",
     "text": [
      "Enroll into new course : student_roll_no :  31\n",
      "Enroll into new course : student_roll_no :  32\n",
      "Enroll into new course : student_roll_no :  33\n",
      "Enroll into new course : student_roll_no :  34\n",
      "Enroll into new course : student_roll_no :  35\n",
      "Enroll into new course : student_roll_no :  36\n",
      "Enroll into new course : student_roll_no :  37\n",
      "Enroll into new course : student_roll_no :  38\n",
      "Enroll into new course : student_roll_no :  39\n",
      "Enroll into new course : student_roll_no :  40\n",
      "Enroll into new course : student_roll_no :  41\n",
      "Enroll into new course : student_roll_no :  42\n",
      "Enroll into new course : student_roll_no :  43\n",
      "Enroll into new course : student_roll_no :  44\n",
      "Enroll into new course : student_roll_no :  45\n",
      "Enroll into new course : student_roll_no :  46\n",
      "Enroll into new course : student_roll_no :  47\n",
      "Enroll into new course : student_roll_no :  48\n",
      "Enroll into new course : student_roll_no :  49\n"
     ]
    }
   ],
   "source": [
    "# how to terminate the loops:\n",
    "\n",
    "# it could be 2 ways :   if we met our scenarios, we can come out of the loop\n",
    "# break : forcibly\n",
    "\n",
    "\n",
    "for student_roll_no in range(50):\n",
    "    if student_roll_no > 30:\n",
    "        print('Enroll into new course : student_roll_no : ', student_roll_no)"
   ]
  },
  {
   "cell_type": "code",
   "execution_count": 4,
   "metadata": {},
   "outputs": [
    {
     "name": "stdout",
     "output_type": "stream",
     "text": [
      " Student roll no :  0\n",
      " Student roll no :  1\n",
      " Student roll no :  2\n",
      " Student roll no :  3\n",
      " Student roll no :  4\n",
      " Student roll no :  5\n",
      " Student roll no :  6\n",
      " Student roll no :  7\n",
      " Student roll no :  8\n",
      " Student roll no :  9\n",
      " Student roll no :  10\n",
      " Student roll no :  11\n",
      " Student roll no :  12\n",
      " Student roll no :  13\n",
      " Student roll no :  14\n",
      " Student roll no :  15\n",
      " Student roll no :  16\n",
      " Student roll no :  17\n",
      " Student roll no :  18\n",
      " Student roll no :  19\n",
      " Student roll no :  20\n",
      " Student roll no :  21\n",
      " Student roll no :  22\n",
      " Student roll no :  23\n",
      " Student roll no :  24\n",
      " Student roll no :  25\n",
      " Student roll no :  26\n",
      " Student roll no :  27\n",
      " Student roll no :  28\n",
      " Student roll no :  29\n",
      " Student roll no :  30\n",
      " Student roll no :  31\n"
     ]
    }
   ],
   "source": [
    "\n",
    "\n",
    "for student_roll_no in range(50):\n",
    "    print(' Student roll no : ', student_roll_no)\n",
    "    if student_roll_no > 30:\n",
    "        break"
   ]
  },
  {
   "cell_type": "code",
   "execution_count": 5,
   "metadata": {},
   "outputs": [],
   "source": [
    "#while loop\n",
    "\n",
    "#while (condition):\n",
    "#    loop logic"
   ]
  },
  {
   "cell_type": "code",
   "execution_count": 6,
   "metadata": {},
   "outputs": [
    {
     "data": {
      "text/plain": [
       "\"\\nwhile (condition met to true):\\n    print('Infinite loop')\\n    \\n\""
      ]
     },
     "execution_count": 6,
     "metadata": {},
     "output_type": "execute_result"
    }
   ],
   "source": [
    "\"\"\"\n",
    "while (condition met to true):\n",
    "    print('Infinite loop')\n",
    "    \n",
    "\"\"\""
   ]
  },
  {
   "cell_type": "code",
   "execution_count": 8,
   "metadata": {},
   "outputs": [
    {
     "name": "stdout",
     "output_type": "stream",
     "text": [
      "Generate roll no :  20\n",
      "Generate roll no :  21\n",
      "Generate roll no :  22\n",
      "Generate roll no :  23\n",
      "Generate roll no :  24\n",
      "Generate roll no :  25\n",
      "Generate roll no :  26\n",
      "Generate roll no :  27\n",
      "Generate roll no :  28\n",
      "Generate roll no :  29\n",
      "Generate roll no :  30\n",
      "Generate roll no :  31\n",
      "Generate roll no :  32\n",
      "Generate roll no :  33\n",
      "Generate roll no :  34\n",
      "Generate roll no :  35\n",
      "Generate roll no :  36\n",
      "Generate roll no :  37\n",
      "Generate roll no :  38\n",
      "Generate roll no :  39\n",
      "Generate roll no :  40\n",
      "Generate roll no :  41\n",
      "Generate roll no :  42\n",
      "Generate roll no :  43\n",
      "Generate roll no :  44\n",
      "Generate roll no :  45\n",
      "Generate roll no :  46\n",
      "Generate roll no :  47\n",
      "Generate roll no :  48\n",
      "Generate roll no :  49\n"
     ]
    }
   ],
   "source": [
    "roll_no = 20\n",
    "\n",
    "while roll_no < 50:\n",
    "    print('Generate roll no : ', roll_no)\n",
    "    roll_no += 1\n",
    "        "
   ]
  },
  {
   "cell_type": "code",
   "execution_count": 9,
   "metadata": {},
   "outputs": [
    {
     "name": "stdout",
     "output_type": "stream",
     "text": [
      "We are into normal temperate range oC\n",
      "We are into normal temperate range oC\n",
      "We are into normal temperate range oC\n",
      "We are into normal temperate range oC\n",
      "We are into normal temperate range oC\n"
     ]
    }
   ],
   "source": [
    "temp = 15\n",
    "while temp <= 50:\n",
    "    temp +=2\n",
    "    if temp > 20 and temp < 30:\n",
    "        print('We are into normal temperate range oC')\n",
    "        \n",
    "        "
   ]
  },
  {
   "cell_type": "code",
   "execution_count": 11,
   "metadata": {},
   "outputs": [
    {
     "name": "stdout",
     "output_type": "stream",
     "text": [
      "We are into normal temperate range oC 21\n"
     ]
    }
   ],
   "source": [
    "temp = 15\n",
    "while temp <= 50:\n",
    "    temp +=2\n",
    "    if temp > 20 and temp < 30:\n",
    "        print('We are into normal temperate range oC', temp)\n",
    "        break\n"
   ]
  },
  {
   "cell_type": "code",
   "execution_count": null,
   "metadata": {},
   "outputs": [],
   "source": [
    "# continue vs break\n",
    "\n",
    "#keyword continue\n",
    "\n"
   ]
  },
  {
   "cell_type": "code",
   "execution_count": 1,
   "metadata": {},
   "outputs": [],
   "source": [
    "# avoid duplicate effort\n",
    "# promote reusability\n",
    "# improve efficiency\n",
    "# Version control system - Promote multi user development environment\n",
    "\n"
   ]
  },
  {
   "cell_type": "code",
   "execution_count": 2,
   "metadata": {},
   "outputs": [
    {
     "name": "stdout",
     "output_type": "stream",
     "text": [
      "Enter input information20\n"
     ]
    }
   ],
   "source": [
    "# Capturing user input dynamically\n",
    "\n",
    "input_num = input(\"Enter input information\")"
   ]
  },
  {
   "cell_type": "code",
   "execution_count": 3,
   "metadata": {},
   "outputs": [
    {
     "name": "stdout",
     "output_type": "stream",
     "text": [
      " User entered input value is:  20\n"
     ]
    }
   ],
   "source": [
    "print(' User entered input value is: ', input_num)"
   ]
  },
  {
   "cell_type": "code",
   "execution_count": 7,
   "metadata": {},
   "outputs": [
    {
     "name": "stdout",
     "output_type": "stream",
     "text": [
      "Welcome to number increment while loop example :  3\n",
      "Welcome to number increment while loop example :  4\n",
      "Welcome to number increment while loop example :  5\n",
      "Welcome to number increment while loop example :  6\n",
      "Welcome to number increment while loop example :  7\n",
      "Welcome to number increment while loop example :  8\n",
      "Welcome to number increment while loop example :  9\n",
      "Welcome to number increment while loop example :  10\n",
      "Welcome to number increment while loop example :  11\n",
      "Welcome to number increment while loop example :  12\n",
      "Welcome to number increment while loop example :  13\n",
      "Welcome to number increment while loop example :  14\n",
      "Welcome to number increment while loop example :  15\n"
     ]
    }
   ],
   "source": [
    "tmp_num = 2\n",
    "\n",
    "while int(input_num) < 30:\n",
    "    tmp_num += 1\n",
    "    print(\"Welcome to number increment while loop example : \", tmp_num)\n",
    "    if tmp_num < 15:\n",
    "        continue\n",
    "    else:\n",
    "        break\n",
    "        "
   ]
  },
  {
   "cell_type": "code",
   "execution_count": 12,
   "metadata": {},
   "outputs": [],
   "source": [
    "# def keyword to define a function\n",
    "\n",
    "\n",
    "def sum_of_given_nos(num1, num2):\n",
    "    output_num = num1 + num2\n",
    "    return output_num"
   ]
  },
  {
   "cell_type": "code",
   "execution_count": 11,
   "metadata": {},
   "outputs": [],
   "source": [
    "def sum_of_given_no1(num1):\n",
    "    return num1"
   ]
  },
  {
   "cell_type": "code",
   "execution_count": 13,
   "metadata": {},
   "outputs": [
    {
     "data": {
      "text/plain": [
       "5"
      ]
     },
     "execution_count": 13,
     "metadata": {},
     "output_type": "execute_result"
    }
   ],
   "source": [
    "sum_of_given_nos(2,3)"
   ]
  },
  {
   "cell_type": "code",
   "execution_count": 14,
   "metadata": {},
   "outputs": [],
   "source": [
    "def area_calc(height_1, width_1):\n",
    "    area_of_object = (1/2)*height_1*width_1\n",
    "    print('area of given object is: ', area_of_object)"
   ]
  },
  {
   "cell_type": "code",
   "execution_count": 15,
   "metadata": {},
   "outputs": [
    {
     "name": "stdout",
     "output_type": "stream",
     "text": [
      "area of given object is:  9.0\n"
     ]
    }
   ],
   "source": [
    "area_calc(3,6)"
   ]
  },
  {
   "cell_type": "code",
   "execution_count": 16,
   "metadata": {},
   "outputs": [],
   "source": [
    "def dynamic_input_parameter(*input_nums):\n",
    "    print('welcome to dynamic_input_parameter function ')\n",
    "    print(' input_nums 1: ', input_nums[1])\n",
    "    print(' input_nums 2: ', input_nums[2])\n",
    "    "
   ]
  },
  {
   "cell_type": "code",
   "execution_count": 17,
   "metadata": {},
   "outputs": [
    {
     "name": "stdout",
     "output_type": "stream",
     "text": [
      "welcome to dynamic_input_parameter function \n",
      " input_nums 1:  1\n",
      " input_nums 2:  2\n"
     ]
    }
   ],
   "source": [
    "dynamic_input_parameter(0, 1, 2)"
   ]
  },
  {
   "cell_type": "code",
   "execution_count": 18,
   "metadata": {},
   "outputs": [
    {
     "name": "stdout",
     "output_type": "stream",
     "text": [
      "welcome to dynamic_input_parameter function \n",
      " input_nums 1:  1\n",
      " input_nums 2:  2\n"
     ]
    }
   ],
   "source": [
    "dynamic_input_parameter(0, 1, 2, 3, 4,5,6)"
   ]
  },
  {
   "cell_type": "code",
   "execution_count": 19,
   "metadata": {},
   "outputs": [],
   "source": [
    "# pass statement \n",
    "\n",
    "def my_new_function(*params_info):\n",
    "    pass"
   ]
  },
  {
   "cell_type": "code",
   "execution_count": 20,
   "metadata": {},
   "outputs": [],
   "source": [
    "def display_string_info(input_str):\n",
    "    for in_char in input_str:\n",
    "        print(in_char)"
   ]
  },
  {
   "cell_type": "code",
   "execution_count": 21,
   "metadata": {},
   "outputs": [
    {
     "name": "stdout",
     "output_type": "stream",
     "text": [
      "w\n",
      "e\n",
      "l\n",
      "c\n",
      "o\n",
      "m\n",
      "e\n"
     ]
    }
   ],
   "source": [
    "display_string_info('welcome')"
   ]
  },
  {
   "cell_type": "code",
   "execution_count": 22,
   "metadata": {},
   "outputs": [],
   "source": [
    "# assert feature will help us to perform base unit test"
   ]
  },
  {
   "cell_type": "code",
   "execution_count": 25,
   "metadata": {},
   "outputs": [],
   "source": [
    "# recursion example: invoking same function within the function block. \n",
    "\n",
    "def my_recur(input_num):\n",
    "    if(input_num > 0):\n",
    "        output_num  = input_num * my_recur(input_num-1)\n",
    "    else:\n",
    "        output_num = 1\n",
    "    print('Output info at current Iteration is: ', output_num)\n",
    "    return output_num\n",
    "    "
   ]
  },
  {
   "cell_type": "code",
   "execution_count": 26,
   "metadata": {},
   "outputs": [
    {
     "name": "stdout",
     "output_type": "stream",
     "text": [
      "Output info at current Iteration is:  1\n",
      "Output info at current Iteration is:  1\n",
      "Output info at current Iteration is:  2\n",
      "Output info at current Iteration is:  6\n",
      "Output info at current Iteration is:  24\n",
      "Output info at current Iteration is:  120\n"
     ]
    },
    {
     "data": {
      "text/plain": [
       "120"
      ]
     },
     "execution_count": 26,
     "metadata": {},
     "output_type": "execute_result"
    }
   ],
   "source": [
    "my_recur(5)"
   ]
  },
  {
   "cell_type": "code",
   "execution_count": 34,
   "metadata": {},
   "outputs": [],
   "source": [
    "# logic: read object_shape : \n",
    "# based on shape/type of object, identify parameters and define area calculation formula.\n",
    "\n",
    "def area_of_given_object(object_shape, *in_params):\n",
    "    print(' input object_shape : ', object_shape)\n",
    "    \n",
    "    if object_shape == 'Triangle':\n",
    "        print('Traiangle area calculation block')\n",
    "    elif object_shape == 'Square':\n",
    "        print('Square area calculation block')\n",
    "    elif object_shape == 'Rectangle':\n",
    "        print('Rectangle area calculation block')\n",
    "    else:\n",
    "        print('Currently ', object_shape, ' type not supported')\n",
    "\n",
    "    "
   ]
  },
  {
   "cell_type": "code",
   "execution_count": 35,
   "metadata": {},
   "outputs": [
    {
     "name": "stdout",
     "output_type": "stream",
     "text": [
      " input object_shape :  Triangle\n",
      "Traiangle area calculation block\n"
     ]
    }
   ],
   "source": [
    "area_of_given_object('Triangle')"
   ]
  },
  {
   "cell_type": "code",
   "execution_count": 36,
   "metadata": {},
   "outputs": [
    {
     "name": "stdout",
     "output_type": "stream",
     "text": [
      " input object_shape :  Circle\n",
      "Currently  Circle  type not supported\n"
     ]
    }
   ],
   "source": [
    "area_of_given_object('Circle')"
   ]
  },
  {
   "cell_type": "code",
   "execution_count": 39,
   "metadata": {},
   "outputs": [],
   "source": [
    "\n",
    "def area_of_given_object(object_shape, *in_params):\n",
    "    #print(' input object_shape : ', object_shape)\n",
    "    area_output = 0\n",
    "    \n",
    "    if object_shape == 'Triangle':\n",
    "        print('Traiangle area calculation block')\n",
    "        area_output = (1/2)*in_params[0]*in_params[1]\n",
    "        \n",
    "    elif object_shape == 'Square':\n",
    "        print('Square area calculation block')\n",
    "        area_output = in_params[0]*in_params[0]\n",
    "        \n",
    "    elif object_shape == 'Rectangle':\n",
    "        print('Rectangle area calculation block')\n",
    "        area_output = in_params[0]*in_params[1]\n",
    "        \n",
    "    else:\n",
    "        print('Currently ', object_shape, ' type not supported')\n",
    "\n",
    "    print('Given object_type is : ', object_shape, ' : Area of the object is: ', area_output)"
   ]
  },
  {
   "cell_type": "code",
   "execution_count": 40,
   "metadata": {},
   "outputs": [
    {
     "name": "stdout",
     "output_type": "stream",
     "text": [
      "Traiangle area calculation block\n",
      "Given object_type is :  Triangle  : Area of the object is:  16.0\n"
     ]
    }
   ],
   "source": [
    "area_of_given_object('Triangle', 4, 8)"
   ]
  },
  {
   "cell_type": "code",
   "execution_count": 41,
   "metadata": {},
   "outputs": [
    {
     "name": "stdout",
     "output_type": "stream",
     "text": [
      "Square area calculation block\n",
      "Given object_type is :  Square  : Area of the object is:  36\n"
     ]
    }
   ],
   "source": [
    "area_of_given_object('Square', 6)"
   ]
  },
  {
   "cell_type": "code",
   "execution_count": 42,
   "metadata": {},
   "outputs": [
    {
     "name": "stdout",
     "output_type": "stream",
     "text": [
      "Rectangle area calculation block\n",
      "Given object_type is :  Rectangle  : Area of the object is:  54\n"
     ]
    }
   ],
   "source": [
    "area_of_given_object('Rectangle', 6, 9)"
   ]
  },
  {
   "cell_type": "code",
   "execution_count": 43,
   "metadata": {},
   "outputs": [
    {
     "name": "stdout",
     "output_type": "stream",
     "text": [
      "Currently  Hexagon  type not supported\n",
      "Given object_type is :  Hexagon  : Area of the object is:  0\n"
     ]
    }
   ],
   "source": [
    "area_of_given_object('Hexagon')"
   ]
  },
  {
   "cell_type": "code",
   "execution_count": 44,
   "metadata": {},
   "outputs": [],
   "source": [
    "# lambda function:\n",
    "\n",
    "# single line function\n",
    "\n",
    "# arguments --> parameters\n",
    "\n",
    "# define logic\n",
    "\n",
    "\n",
    "# function_name = lambda param_1, param_2 : logic\n"
   ]
  },
  {
   "cell_type": "code",
   "execution_count": 45,
   "metadata": {},
   "outputs": [],
   "source": [
    "# write a lamba function to calculate sum of given numbers\n",
    "\n",
    "\n",
    "\n",
    "sum_lambda = lambda inpara_1, inpara_2 : inpara_1 + inpara_2"
   ]
  },
  {
   "cell_type": "code",
   "execution_count": 46,
   "metadata": {},
   "outputs": [
    {
     "name": "stdout",
     "output_type": "stream",
     "text": [
      "8\n"
     ]
    }
   ],
   "source": [
    "print(sum_lambda(2,6))"
   ]
  },
  {
   "cell_type": "code",
   "execution_count": 47,
   "metadata": {},
   "outputs": [],
   "source": [
    "product_lambda = lambda inpara_1, inpara_2 : inpara_1 * inpara_2"
   ]
  },
  {
   "cell_type": "code",
   "execution_count": 48,
   "metadata": {},
   "outputs": [
    {
     "name": "stdout",
     "output_type": "stream",
     "text": [
      "18\n"
     ]
    }
   ],
   "source": [
    "print(product_lambda(3,6))"
   ]
  },
  {
   "cell_type": "code",
   "execution_count": 49,
   "metadata": {},
   "outputs": [],
   "source": [
    "def product_output(inparam):\n",
    "    return lambda inparam1 : inparam1 * inparam"
   ]
  },
  {
   "cell_type": "code",
   "execution_count": 51,
   "metadata": {},
   "outputs": [
    {
     "name": "stdout",
     "output_type": "stream",
     "text": [
      "<function product_output.<locals>.<lambda> at 0x0000020ADB17F438>\n"
     ]
    }
   ],
   "source": [
    "print(product_output(6))"
   ]
  },
  {
   "cell_type": "code",
   "execution_count": 52,
   "metadata": {},
   "outputs": [],
   "source": [
    "def sum_output(inparam):\n",
    "    return lambda inparam : inparam + inparam"
   ]
  },
  {
   "cell_type": "code",
   "execution_count": 53,
   "metadata": {},
   "outputs": [
    {
     "name": "stdout",
     "output_type": "stream",
     "text": [
      "<function sum_output.<locals>.<lambda> at 0x0000020ADB17F168>\n"
     ]
    }
   ],
   "source": [
    "print(sum_output(2))"
   ]
  },
  {
   "cell_type": "code",
   "execution_count": 55,
   "metadata": {},
   "outputs": [],
   "source": [
    "mixed_lambda = lambda inpara_1, inpara_2, inpara_3 : inpara_1 + inpara_2 - inpara_3"
   ]
  },
  {
   "cell_type": "code",
   "execution_count": 56,
   "metadata": {},
   "outputs": [
    {
     "name": "stdout",
     "output_type": "stream",
     "text": [
      "14\n"
     ]
    }
   ],
   "source": [
    "print(mixed_lambda(8, 10, 4))"
   ]
  },
  {
   "cell_type": "code",
   "execution_count": 57,
   "metadata": {},
   "outputs": [
    {
     "name": "stdout",
     "output_type": "stream",
     "text": [
      "224\n"
     ]
    }
   ],
   "source": [
    "print(mixed_lambda(18, 210, 4))"
   ]
  },
  {
   "cell_type": "code",
   "execution_count": 58,
   "metadata": {},
   "outputs": [],
   "source": [
    "# OOPS Concepts\n",
    "\n",
    "# Polymorphism  : # overloading, overriding\n",
    "# Encapsulation\n",
    "# Inheritance\n"
   ]
  },
  {
   "cell_type": "code",
   "execution_count": 59,
   "metadata": {},
   "outputs": [],
   "source": [
    "# Inheritance: Parents & Child \n",
    "\n",
    "# Encapsulation : Binding \"Data (input parameters) & Its associated members\" together at run time. "
   ]
  },
  {
   "cell_type": "code",
   "execution_count": null,
   "metadata": {},
   "outputs": [],
   "source": []
  }
 ],
 "metadata": {
  "kernelspec": {
   "display_name": "Python 3",
   "language": "python",
   "name": "python3"
  },
  "language_info": {
   "codemirror_mode": {
    "name": "ipython",
    "version": 3
   },
   "file_extension": ".py",
   "mimetype": "text/x-python",
   "name": "python",
   "nbconvert_exporter": "python",
   "pygments_lexer": "ipython3",
   "version": "3.8.3"
  }
 },
 "nbformat": 4,
 "nbformat_minor": 4
}
